{
 "cells": [
  {
   "cell_type": "code",
   "execution_count": 2,
   "metadata": {},
   "outputs": [],
   "source": [
    "import requests\n",
    "from bs4 import BeautifulSoup\n",
    "import time\n",
    "import random\n",
    "import re\n",
    "BASE_URL = \"https://govt.westlaw.com\"\n",
    "REGISTRY_URL = \"https://govt.westlaw.com/nyreg/Browse/Home/NewYork/NewYorkStateRegister?transitionType=Default&contextData=%28sc.Default%29\""
   ]
  },
  {
   "cell_type": "code",
   "execution_count": 3,
   "metadata": {},
   "outputs": [],
   "source": [
    "html = requests.get(\"https://govt.westlaw.com/nyreg/Browse/Home/NewYork/NewYorkStateRegister?guid=If9daac50117011dd9ebbc6691c83e090&originationContext=documenttoc&transitionType=Default&contextData=(sc.Default)&bhcp=1\")"
   ]
  },
  {
   "cell_type": "code",
   "execution_count": 4,
   "metadata": {},
   "outputs": [],
   "source": [
    "def generic_box(bs,tag):\n",
    "    return bs.find(tag, attrs={\"class\": \"co_genericWhiteBox\"})\n",
    "def load_page(url: str):\n",
    "    html = requests.get(url).text\n",
    "    bs = BeautifulSoup(html)  \n",
    "    possible_links = bs.find_all('a')\n",
    "    if len(possible_links)==0:\n",
    "        print(\"Trying again\")\n",
    "        time.sleep(random.randint(2,4))\n",
    "        return load_page(url)\n",
    "    else:\n",
    "        return bs\n",
    "def load_page_links(url: str, gen_box=False):\n",
    "    bs = load_page(url)\n",
    "    if gen_box==True:\n",
    "        bs = (generic_box(bs,'ul') or bs) # Get temp, otherwise get bs\n",
    "    possible_links = bs.find_all('a')\n",
    "    return possible_links\n",
    "def load_page_text(url):\n",
    "    bs = load_page(url)\n",
    "    return generic_box(bs, 'div').getText()\n",
    "\n",
    "\n",
    "\n"
   ]
  },
  {
   "cell_type": "code",
   "execution_count": 5,
   "metadata": {},
   "outputs": [],
   "source": [
    "def get_year_links_from_home(url: str):\n",
    "    # Returns a dictionary with year as key and link as value\n",
    "    year_links = {}\n",
    "    possible_links = load_page_links(url)\n",
    "    for link in possible_links:\n",
    "        if \"href\" in link.attrs and link[\"href\"].startswith(\"/nyreg/Browse/\"):\n",
    "            year_links[int(link.string)] = BASE_URL + link.attrs['href']\n",
    "    return year_links\n",
    "\n"
   ]
  },
  {
   "cell_type": "code",
   "execution_count": 6,
   "metadata": {},
   "outputs": [],
   "source": [
    "def get_links_from_year(year_links: dict, year: int):\n",
    "    # Returns a list of links from a year\n",
    "    result = []\n",
    "    url = year_links[year]\n",
    "    possible_links = load_page_links(url)\n",
    "    for link in possible_links:\n",
    "        if link.string != \"Home\":\n",
    "            if \"href\" in link.attrs and link[\"href\"].startswith(\"/nyreg/Browse/\"):\n",
    "                result.append(BASE_URL + link[\"href\"])\n",
    "    return result\n",
    "\n",
    "\n"
   ]
  },
  {
   "cell_type": "code",
   "execution_count": 7,
   "metadata": {},
   "outputs": [],
   "source": [
    "def get_links_from_day(url: str):\n",
    "    # Returns a list of links from a day\n",
    "    result = []\n",
    "    possible_links = load_page_links(url)\n",
    "    for link in possible_links:\n",
    "        link_text = (link.string or \"\")\n",
    "        if link_text != \"Home\" and (not link_text.isnumeric()):\n",
    "            if \"href\" in link.attrs and link[\"href\"].startswith(\"/nyreg/Browse/\"):\n",
    "                result.append(BASE_URL + link[\"href\"])\n",
    "    return result\n",
    "\n"
   ]
  },
  {
   "cell_type": "code",
   "execution_count": 8,
   "metadata": {},
   "outputs": [],
   "source": [
    "\n",
    "def get_links_from_rule_making(url: str):\n",
    "    # Returns a list of links from a year\n",
    "    result = []\n",
    "    possible_links = load_page_links(url,gen_box=True)\n",
    "    for link in possible_links:\n",
    "        \n",
    "        \n",
    "        if \"href\" in link.attrs and link[\"href\"].startswith(\"/nyreg/Browse/\"):\n",
    "            result.append(BASE_URL + link[\"href\"])\n",
    "                \n",
    "    return result    \n",
    "    \n",
    "    "
   ]
  },
  {
   "cell_type": "code",
   "execution_count": 9,
   "metadata": {},
   "outputs": [],
   "source": [
    "def get_docs_from_department(url: str):\n",
    "    \n",
    "    result = []\n",
    "    possible_links = load_page_links(url,gen_box=True)\n",
    "    for link in possible_links:\n",
    "\n",
    "        result.append(BASE_URL + link[\"href\"])\n",
    "            \n",
    "    return result  \n",
    "    "
   ]
  },
  {
   "cell_type": "code",
   "execution_count": 10,
   "metadata": {},
   "outputs": [
    {
     "name": "stdout",
     "output_type": "stream",
     "text": [
      "https://govt.westlaw.com/nyreg/Browse/Home/NewYork/NewYorkStateRegister?guid=Ie9b9a510117011dd9ebbc6691c83e090&originationContext=documenttoc&transitionType=Default&contextData=(sc.Default)\n",
      "https://govt.westlaw.com/nyreg/Browse/Home/NewYork/NewYorkStateRegister?guid=Ia2f3fb70eb3b11de9583e690ba4afff3&originationContext=documenttoc&transitionType=Default&contextData=(sc.Default)\n",
      "https://govt.westlaw.com/nyreg/Browse/Home/NewYork/NewYorkStateRegister?guid=Icdcd36e09baa11e2b4090000845b8d3e&originationContext=documenttoc&transitionType=Default&contextData=(sc.Default)\n",
      "https://govt.westlaw.com/nyreg/Document/I2a41ddcec9b811e0b63a0000845b8d3e?viewType=FullText&originationContext=documenttoc&transitionType=CategoryPageItem&contextData=(sc.Default)\n"
     ]
    }
   ],
   "source": [
    "year_links = get_year_links_from_home(REGISTRY_URL)\n",
    "print(year_links[2007])\n",
    "\n",
    "\n",
    "links_2010 = get_links_from_year(year_links, 2010)\n",
    "x = links_2010[0]\n",
    "links_day = get_links_from_day(x)\n",
    "print(links_day[0])\n",
    "\n",
    "y = links_day[0]\n",
    "links_rule = get_links_from_rule_making(y)\n",
    "print(links_rule[0])\n",
    "\n",
    "z = links_rule[0]\n",
    "links_docs = get_docs_from_department(z)\n",
    "print(links_docs[0])"
   ]
  },
  {
   "cell_type": "code",
   "execution_count": 11,
   "metadata": {},
   "outputs": [
    {
     "data": {
      "text/plain": [
       "['https://govt.westlaw.com/nyreg/Document/I2a41ddcec9b811e0b63a0000845b8d3e?viewType=FullText&originationContext=documenttoc&transitionType=CategoryPageItem&contextData=(sc.Default)']"
      ]
     },
     "execution_count": 11,
     "metadata": {},
     "output_type": "execute_result"
    }
   ],
   "source": [
    "z\n",
    "links_docs\n",
    "\n",
    "get_docs_from_department(\"https://govt.westlaw.com/nyreg/Browse/Home/NewYork/NewYorkStateRegister?guid=Icdcd36e09baa11e2b4090000845b8d3e&originationContext=documenttoc&transitionType=Default&contextData=(sc.Default)\")"
   ]
  },
  {
   "cell_type": "code",
   "execution_count": 12,
   "metadata": {},
   "outputs": [],
   "source": [
    "#print(links_2010[0]) "
   ]
  },
  {
   "cell_type": "code",
   "execution_count": 44,
   "metadata": {},
   "outputs": [],
   "source": [
    "#Get Contacts Info, utilized Matt's functioin from VA file \n",
    "\n",
    "#EMAIL_RE = re.compile(r\"[a-zA-Z]*@[a-z]*\\.(state.ny.us)\")\n",
    "\n",
    "\n",
    "def get_email_from_docs(text):\n",
    "    \"\"\"Extracts an email from a string\n",
    "    Parameters\n",
    "    ----------\n",
    "    text : str\n",
    "        The text to clean\n",
    "    Returns\n",
    "    -------\n",
    "    email : str\n",
    "        The email\n",
    "    \"\"\"\n",
    "    if not isinstance(text, str):\n",
    "        return None\n",
    "\n",
    "    email_split = text.split('email: ')[1]\n",
    "    email = email_split.split('@')\n",
    "    email_name = email[0]\n",
    "    next_sentence = re.findall('[A-Z][a-z]*',email[1])[0]\n",
    "    domain = email[1].split(next_sentence)[0]\n",
    "    \n",
    "    return email_name + \"@\" + domain\n",
    "        \n",
    "        \n",
    "    \n",
    "\n",
    "\n",
    "PHONE_NUMBER_RE = re.compile(r\"[(]\\d{3}[)] \\d{3}-\\d{4}\")\n",
    "\n",
    "\n",
    "def get_phone_number_from_docs(text):\n",
    "    \"\"\"Extracts an phone number from a string\n",
    "    Parameters\n",
    "    ----------\n",
    "    text : str\n",
    "        The text to clean\n",
    "    Returns\n",
    "    -------\n",
    "    phone_number : str\n",
    "        The phone number\n",
    "    \"\"\"\n",
    "    if not isinstance(text, str):\n",
    "        return None\n",
    "\n",
    "    if PHONE_NUMBER_RE.search(text):\n",
    "        start, end = PHONE_NUMBER_RE.search(text).span()\n",
    "        return text[start:end]\n",
    "     \n",
    "    \n",
    "def _parse_contact(contact:str):\n",
    "    \"\"\"Extracts pertinent information from the contact string\n",
    "    Parameters\n",
    "    ----------\n",
    "    contact : str\n",
    "        A string with contact information\n",
    "    Returns\n",
    "    -------\n",
    "    first_name : str\n",
    "    last_name : str\n",
    "    email : str\n",
    "    phone_number : str\n",
    "    \"\"\"\n",
    "    email = get_email_from_docs(contact)\n",
    "    phone_number = get_phone_number_from_docs(contact)\n",
    "\n",
    "    return email, phone_number   \n",
    "    \n"
   ]
  },
  {
   "cell_type": "code",
   "execution_count": 47,
   "metadata": {},
   "outputs": [
    {
     "name": "stdout",
     "output_type": "stream",
     "text": [
      "https://govt.westlaw.com/nyreg/Document/I2a41ddcec9b811e0b63a0000845b8d3e?viewType=FullText&originationContext=documenttoc&transitionType=CategoryPageItem&contextData=(sc.Default)\n",
      "('DeborahEgel@oasas.state.ny.us', '(518) 457-2312')\n"
     ]
    }
   ],
   "source": [
    "w = links_docs[0]\n",
    "#contacts_info = _parse_contact(w)\n",
    "#print(w)\n",
    "#page = load_page(w).find(\"div\", {\"class\": \"co_genericWhiteBox\"}).getText()\n",
    "#print(page)\n",
    "\n",
    "text = load_page_text(w)\n",
    "\n",
    "print(_parse_contact(text))\n",
    "\n"
   ]
  },
  {
   "cell_type": "code",
   "execution_count": 56,
   "metadata": {},
   "outputs": [
    {
     "name": "stdout",
     "output_type": "stream",
     "text": [
      "32\n"
     ]
    }
   ],
   "source": [
    "#volume number \n",
    "def romanToInt(s):\n",
    "    \n",
    "    roman = {'I':1,'V':5,'X':10,'L':50,'C':100,'D':500,'M':1000,'IV':4,'IX':9,'XL':40,'XC':90,'CD':400,'CM':900}\n",
    "    i = 0\n",
    "    num = 0\n",
    "    while i < len(s):\n",
    "        if i+1<len(s) and s[i:i+2] in roman:\n",
    "            num+=roman[s[i:i+2]]\n",
    "            i+=2\n",
    "        else:\n",
    "            #print(i)\n",
    "            num+=roman[s[i]]\n",
    "            i+=1\n",
    "    return num\n",
    "\n",
    "def get_volume_number(text):\n",
    "\n",
    "    result = re.search('VOLUME (.*), ISSUE', text)\n",
    "    return romanToInt(result.group(1))\n",
    "\n",
    "\n",
    "print(get_volume_number(text))\n",
    "\n",
    " def get_issue_number(text):\n",
    "    result = re.search('ISSUE (.*), #hererere', text)\n",
    "     \n",
    "    return result.group(1)\n",
    "\n",
    "\n",
    "\n"
   ]
  },
  {
   "cell_type": "code",
   "execution_count": 24,
   "metadata": {},
   "outputs": [
    {
     "name": "stdout",
     "output_type": "stream",
     "text": [
      "['DeborahEgel', 'oasas.state.ny.usRegulatory Impact StatementPart 828: Requirements for the operation of chemotherapy substance abuse programs will be amended to revise the definitions of methadone to include other approved agents to be administered or prescribed instead of, or in addition to, methadone.1. Statutory authoritySection 19.07(e) of the Mental Hygiene Law authorizes the Commissioner of the Office of Alcoholism and Substance Abuse Services (\"the Commissioner\") to ensure that persons who abuse or are dependent on alcohol and/or substances and their families are provided with care and treatment which is effective and of high quality.Section 19.09(b) of the Mental Hygiene Law authorizes the Commissioner to adopt regulations necessary and proper to implement any matter under his or her jurisdiction.Section 19.15(a) of the Mental Hygiene Law bestows upon the Commissioner the responsibility of promoting, establishing, coordinating, and conducting programs for the prevention, diagnosis, treatment, aftercare, rehabilitation, and control in the field of chemical abuse or dependence.Section 19.40 of the Mental Hygiene Law authorizes the Commissioner to issue a single operating certificate for the provision of chemical dependence services.Section 32.01 of the Mental Hygiene Law authorizes the Commissioner to adopt any regulation reasonably necessary to implement and effectively exercise the powers and perform the duties conferred by Article 32.Section 32.07(a) of the Mental Hygiene Law gives the Commissioner the power to adopt regulations to effectuate the provisions and purposes of Article 32.Section 32.09 of the Mental Hygiene Law gives the Commissioner the authority to issue operating certificates to providers of chemical dependence services.2. Legislative objectivesChapter 558 of the Laws of 1999 requires the promulgation of rules and regulations to regulate and ensure the consistent high quality of services provided within the state to persons suffering from chemical abuse or dependence, their families and significant others, and those who are at risk of becoming chemical abusers. The amendment of Part 828 will allow methadone clinics to dispense, administer or prescribe buprenorphine to clients of the clinic as an alternative to methadone, thereby reducing the number of persons dependent on street drugs or illegally obtained prescription opioids.3. Needs and benefitsThe use of additional agents to treat opioid addiction will decrease the number of addicted persons using street drugs such as heroin or illegally obtained prescription opioids. The need for additional and varied treatment methodologies to treat opioid addiction is apparent, and the benefit to the service to be able to offer choices to their patients is that they may be able to keep more people on a \"maintenance\" program than if they have only one option.4. Costs:a. Costs to regulated parties.There may be a change in the reporting requirements or the documentation requirements which may have a fiscal impact on regulated parties.b. Costs to the agency, state and local governments.The state and local impact of the amendment of 828 will be minimal if at all. There is a difference between the reimbursement rates for methadone and buprenorphine. The weekly rates for buprenorphine are between $170.78 and $259.78, depending on the dose, and for methadone the weekly reimbursement rate is $136.05. Therefore, it may cost the state, federal or local governments more money to provide buprenorphine. However, the number of persons receiving buprenorphine may not rise because the dispensing or prescribing of this approved agent is completely voluntary.5. Local government mandatesThe proposed rule does not impose any new local government mandates.6. PaperworkThe proposed rule does not impose additional paperwork requirements.7. DuplicationThe proposed rule does not duplicate of other state or federal regulations. 8. AlternativesThe only alternative to the proposed regulation is to continue to use only methadone in clinics regulated under Part 828.9. Federal standardsThe Centers for Substance Abuse Treatment (CSAT) federal regulations preserve States\\' authority to regulate Opioid Treatment Programs (OTP) and states are authorized to promulgate appropriate additional regulations. Federal regulations for dispensing or prescribing Buprenorphine in opioid treatment programs are more restrictive than minimal federal regulations for dispensing for physician based practices. In support of reducing opioid dependence, it is demonstrated that there are numerous benefits, including improved retention in treatment for patients, making OTP\\'s more attractive to new patients, and giving patients more control over their treatment experience. In addition, patient quality of life may be improved through the reduction in daily attendance at an OTP clinic.10. Compliance scheduleIt is expected that full implementation of these Part 828 amendments shall become effective immediately.Regulatory Flexibility AnalysisEffect of the Rule: The proposed emergency revision to Part 828 will impact certified and/or funded providers. It is expected that the emergency revision will require providers to amend some of their policies and procedures in their treatment modality. These new services will result in better patient treatment outcomes. Local health care providers may see an increase in patients seeking medication assisted treatment for opioid addiction due to more treatment options. As a result of patients receiving these services, local governments may see a decrease in services associated with active illicit drug use such as arrests and emergency room visits. Also, local governments and districts may see a nominal increase in cost due to the weekly buprenorphine rate but this should be offset by better patient outcomes. Compliance Requirements: It is expected that there will be no significant changes in compliance requirements. Since providers are already required to provide utilization review, it is not expected that this regulation, will have additional costs. Professional Services: While it is expected that programs may require additional professional services when they choose to administer buprenorphrine during the induction phase this will last only a few days. In addition, providers will now have the option of prescribing instead of administering. Compliance Costs: Some programs may need to formally train staff to understand the pharmacology of buprenorphine.Economic and Technological Feasibility: Compliance with the recordkeeping and reporting requirements of the emergency revision to Part 828 is not expected to have an economic impact or require any changes to technology for small businesses and government. Minimizing Adverse Impact: This is an emergency adoption, no public comment is required, however, the subject matter experts within our agency, including the Medical Director, have concluded that, in line with federal standards, the addition of buprenorphine through emergency regulation is necessary for the health, safety and welfare of the public. Any impact this rule may have on small businesses and the administration of State or local governments and agencies will either be a positive or the nominal costs associated with compliance are small and will be absorbed into the already existing economic structure. The positive impact for our patients and our health care system outweigh any potential minimal costs. Small Business and Local Government Participation: This is and emergency adoption, therefore even though there have been informal conversations with persons affected by this regulation and the subject matter experts within the agency have decided that this emergency is necessary to protect the health, safety and welfare of the public, a formal outreach to the business community was not performed. Small businesses should not be affected by this change, and local governments running methadone clinics are not required to provide buprenorphine. Rural Area Flexibility AnalysisA rural area flexibility analysis is not provided since these proposed regulations would have no adverse impact on public or private entities in rural areas. The majority of Methadone providers are located in New York City. There are a few others upstate, but they are in cities, of various sizes. There are only three providers located in Ulster, Broome and Montgomery, which may be considered rural areas. However, these providers are located in towns where the density is greater than 150 people per square mile. The compliance, recordkeeping and paperwork requirements are the minimum needed to insure compliance with state and federal requirements and quality patient care.Job Impact StatementThe implementation of emergency regulation Part 828 will have a minimal impact on jobs in that it may require some additional staffing, particularly during induction, if OTP\\'s choose to administer Buprenorphrine. This regulation will not adversely impact jobs outside of the agency.End of Document© 2021 Thomson Reuters. No claim to original U.S. Government Works.\\n\\n\\n\\n\\n\\n\\n']\n",
      "(['DeborahEgel', 'oasas.state.ny.usRegulatory Impact StatementPart 828: Requirements for the operation of chemotherapy substance abuse programs will be amended to revise the definitions of methadone to include other approved agents to be administered or prescribed instead of, or in addition to, methadone.1. Statutory authoritySection 19.07(e) of the Mental Hygiene Law authorizes the Commissioner of the Office of Alcoholism and Substance Abuse Services (\"the Commissioner\") to ensure that persons who abuse or are dependent on alcohol and/or substances and their families are provided with care and treatment which is effective and of high quality.Section 19.09(b) of the Mental Hygiene Law authorizes the Commissioner to adopt regulations necessary and proper to implement any matter under his or her jurisdiction.Section 19.15(a) of the Mental Hygiene Law bestows upon the Commissioner the responsibility of promoting, establishing, coordinating, and conducting programs for the prevention, diagnosis, treatment, aftercare, rehabilitation, and control in the field of chemical abuse or dependence.Section 19.40 of the Mental Hygiene Law authorizes the Commissioner to issue a single operating certificate for the provision of chemical dependence services.Section 32.01 of the Mental Hygiene Law authorizes the Commissioner to adopt any regulation reasonably necessary to implement and effectively exercise the powers and perform the duties conferred by Article 32.Section 32.07(a) of the Mental Hygiene Law gives the Commissioner the power to adopt regulations to effectuate the provisions and purposes of Article 32.Section 32.09 of the Mental Hygiene Law gives the Commissioner the authority to issue operating certificates to providers of chemical dependence services.2. Legislative objectivesChapter 558 of the Laws of 1999 requires the promulgation of rules and regulations to regulate and ensure the consistent high quality of services provided within the state to persons suffering from chemical abuse or dependence, their families and significant others, and those who are at risk of becoming chemical abusers. The amendment of Part 828 will allow methadone clinics to dispense, administer or prescribe buprenorphine to clients of the clinic as an alternative to methadone, thereby reducing the number of persons dependent on street drugs or illegally obtained prescription opioids.3. Needs and benefitsThe use of additional agents to treat opioid addiction will decrease the number of addicted persons using street drugs such as heroin or illegally obtained prescription opioids. The need for additional and varied treatment methodologies to treat opioid addiction is apparent, and the benefit to the service to be able to offer choices to their patients is that they may be able to keep more people on a \"maintenance\" program than if they have only one option.4. Costs:a. Costs to regulated parties.There may be a change in the reporting requirements or the documentation requirements which may have a fiscal impact on regulated parties.b. Costs to the agency, state and local governments.The state and local impact of the amendment of 828 will be minimal if at all. There is a difference between the reimbursement rates for methadone and buprenorphine. The weekly rates for buprenorphine are between $170.78 and $259.78, depending on the dose, and for methadone the weekly reimbursement rate is $136.05. Therefore, it may cost the state, federal or local governments more money to provide buprenorphine. However, the number of persons receiving buprenorphine may not rise because the dispensing or prescribing of this approved agent is completely voluntary.5. Local government mandatesThe proposed rule does not impose any new local government mandates.6. PaperworkThe proposed rule does not impose additional paperwork requirements.7. DuplicationThe proposed rule does not duplicate of other state or federal regulations. 8. AlternativesThe only alternative to the proposed regulation is to continue to use only methadone in clinics regulated under Part 828.9. Federal standardsThe Centers for Substance Abuse Treatment (CSAT) federal regulations preserve States\\' authority to regulate Opioid Treatment Programs (OTP) and states are authorized to promulgate appropriate additional regulations. Federal regulations for dispensing or prescribing Buprenorphine in opioid treatment programs are more restrictive than minimal federal regulations for dispensing for physician based practices. In support of reducing opioid dependence, it is demonstrated that there are numerous benefits, including improved retention in treatment for patients, making OTP\\'s more attractive to new patients, and giving patients more control over their treatment experience. In addition, patient quality of life may be improved through the reduction in daily attendance at an OTP clinic.10. Compliance scheduleIt is expected that full implementation of these Part 828 amendments shall become effective immediately.Regulatory Flexibility AnalysisEffect of the Rule: The proposed emergency revision to Part 828 will impact certified and/or funded providers. It is expected that the emergency revision will require providers to amend some of their policies and procedures in their treatment modality. These new services will result in better patient treatment outcomes. Local health care providers may see an increase in patients seeking medication assisted treatment for opioid addiction due to more treatment options. As a result of patients receiving these services, local governments may see a decrease in services associated with active illicit drug use such as arrests and emergency room visits. Also, local governments and districts may see a nominal increase in cost due to the weekly buprenorphine rate but this should be offset by better patient outcomes. Compliance Requirements: It is expected that there will be no significant changes in compliance requirements. Since providers are already required to provide utilization review, it is not expected that this regulation, will have additional costs. Professional Services: While it is expected that programs may require additional professional services when they choose to administer buprenorphrine during the induction phase this will last only a few days. In addition, providers will now have the option of prescribing instead of administering. Compliance Costs: Some programs may need to formally train staff to understand the pharmacology of buprenorphine.Economic and Technological Feasibility: Compliance with the recordkeeping and reporting requirements of the emergency revision to Part 828 is not expected to have an economic impact or require any changes to technology for small businesses and government. Minimizing Adverse Impact: This is an emergency adoption, no public comment is required, however, the subject matter experts within our agency, including the Medical Director, have concluded that, in line with federal standards, the addition of buprenorphine through emergency regulation is necessary for the health, safety and welfare of the public. Any impact this rule may have on small businesses and the administration of State or local governments and agencies will either be a positive or the nominal costs associated with compliance are small and will be absorbed into the already existing economic structure. The positive impact for our patients and our health care system outweigh any potential minimal costs. Small Business and Local Government Participation: This is and emergency adoption, therefore even though there have been informal conversations with persons affected by this regulation and the subject matter experts within the agency have decided that this emergency is necessary to protect the health, safety and welfare of the public, a formal outreach to the business community was not performed. Small businesses should not be affected by this change, and local governments running methadone clinics are not required to provide buprenorphine. Rural Area Flexibility AnalysisA rural area flexibility analysis is not provided since these proposed regulations would have no adverse impact on public or private entities in rural areas. The majority of Methadone providers are located in New York City. There are a few others upstate, but they are in cities, of various sizes. There are only three providers located in Ulster, Broome and Montgomery, which may be considered rural areas. However, these providers are located in towns where the density is greater than 150 people per square mile. The compliance, recordkeeping and paperwork requirements are the minimum needed to insure compliance with state and federal requirements and quality patient care.Job Impact StatementThe implementation of emergency regulation Part 828 will have a minimal impact on jobs in that it may require some additional staffing, particularly during induction, if OTP\\'s choose to administer Buprenorphrine. This regulation will not adversely impact jobs outside of the agency.End of Document© 2021 Thomson Reuters. No claim to original U.S. Government Works.\\n\\n\\n\\n\\n\\n\\n'], '(518) 457-2312')\n"
     ]
    }
   ],
   "source": [
    "#Another way to get contacts info with split function\n",
    "page.split('Text of rule and any required statements and analyses may be obtained from:')[1]\n",
    "\n",
    "get_contacts = _parse_contact(page.split('Text of rule and any required statements and analyses may be obtained from:')[1])\n",
    "\n",
    "print(get_contacts)"
   ]
  },
  {
   "cell_type": "code",
   "execution_count": 31,
   "metadata": {},
   "outputs": [
    {
     "name": "stdout",
     "output_type": "stream",
     "text": [
      "george.bogdan@dfs.ny.govRegulatory\n",
      "George Bogdan, Esq., Department of Financial Services, One State Street, New York, New York 10004, \n"
     ]
    }
   ],
   "source": [
    "text = load_page_text('https://govt.westlaw.com/nyreg/Document/Id5de66174d6111ea91b48cf69a07e1c7?viewType=FullText&originationContext=documenttoc&transitionType=CategoryPageItem&contextData=(sc.Default)')\n",
    "\n",
    "text = text.split('Text of rule and any required statements and analyses may be obtained from:')[1]\n",
    "\n",
    "ph = get_phone_number_from_docs(text)\n",
    "email = get_email_from_docs(text)\n",
    "text = text.split(ph)[0]\n",
    "\n",
    "print(email)\n",
    "print(text)\n",
    "\n",
    "\n"
   ]
  },
  {
   "cell_type": "code",
   "execution_count": 29,
   "metadata": {},
   "outputs": [
    {
     "name": "stdout",
     "output_type": "stream",
     "text": [
      "G\n",
      "Department of Financial Services\n",
      "One State Street\n",
      "New York\n",
      "10004\n",
      "New York 10004\n",
      "['George Bogdan', 'Esq.', 'Department of Financial Services', 'One State Street', 'New York', 'New York 10004', '']\n"
     ]
    }
   ],
   "source": [
    "contact = text.split(', ')\n",
    "state_and_zip = contact[-2]\n",
    "zip_code = state_and_zip.split(' ')[-1]\n",
    "state = 'NY'\n",
    "city = contact[-3]\n",
    "address = contact[-4]\n",
    "agency = contact[-5]\n",
    "full_name = contact[0]\n",
    "first_name = full_name.split(' ')[0]\n",
    "last_name = full_name.split(' ')[1]\n",
    "print(agency)\n",
    "print(address)\n",
    "print(city)\n",
    "print(zip_code)\n",
    "print(state_and_zip)\n",
    "print(contact)"
   ]
  },
  {
   "cell_type": "code",
   "execution_count": null,
   "metadata": {},
   "outputs": [],
   "source": [
    "def get_contact_info_from_rule(url):\n",
    "    text = load_page_text('https://govt.westlaw.com/nyreg/Document/Id5de66174d6111ea91b48cf69a07e1c7?viewType=FullText&originationContext=documenttoc&transitionType=CategoryPageItem&contextData=(sc.Default)')\n",
    "\n",
    "    text = text.split('Text of rule and any required statements and analyses may be obtained from:')[1]\n",
    "\n",
    "    ph = get_phone_number_from_docs(text)\n",
    "    em = get_email_from_docs(page)\n",
    "    text = text.split(ph)[0]"
   ]
  }
 ],
 "metadata": {
  "kernelspec": {
   "display_name": "Python 3",
   "language": "python",
   "name": "python3"
  },
  "language_info": {
   "codemirror_mode": {
    "name": "ipython",
    "version": 3
   },
   "file_extension": ".py",
   "mimetype": "text/x-python",
   "name": "python",
   "nbconvert_exporter": "python",
   "pygments_lexer": "ipython3",
   "version": "3.8.3"
  }
 },
 "nbformat": 4,
 "nbformat_minor": 4
}
